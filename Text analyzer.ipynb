{
    "cells": [
        {
            "metadata": {},
            "cell_type": "markdown",
            "source": "<h1> my Jupyter Notebook on IBM Watson Studio</h1>"
        },
        {
            "metadata": {},
            "cell_type": "markdown",
            "source": "<b>sherif shawqi</b> \n<message>I hope I can be a data scientest in business </message>"
        },
        {
            "metadata": {},
            "cell_type": "markdown",
            "source": "<i> I am interested in data science because it is a really amazing how this pretty much in every buisness </i>"
        },
        {
            "metadata": {},
            "cell_type": "code",
            "source": "#! /bin/python\nfrom string import ascii_lowercase\ninput_text=\"hello there, how you doing this fine morning, hope all good with you and the families, I was wondring if you got the time to review this fine code with this test text I've written, this code is set to get more sophesticated over time, just be paitient and it will analize encrypted text and get it decrypted, or at least try\"\n\ndef char_count(text, char):\n    count=0\n    for i in text:\n        if i==char:\n            count=count+1\n    return count\n\nfor c in ascii_lowercase:\n    char_perc=100 * char_count(input_text, c) / len(input_text)\n    print(\"{0} - {1} %\".format(c, round(char_perc, 2)))\n    \n    \n    ",
            "execution_count": 1,
            "outputs": [
                {
                    "output_type": "stream",
                    "text": "a - 3.7 %\nb - 0.31 %\nc - 1.54 %\nd - 3.7 %\ne - 10.8 %\nf - 1.23 %\ng - 2.16 %\nh - 4.01 %\ni - 8.02 %\nj - 0.31 %\nk - 0.0 %\nl - 2.78 %\nm - 1.54 %\nn - 4.32 %\no - 6.17 %\np - 1.54 %\nq - 0.0 %\nr - 3.4 %\ns - 4.01 %\nt - 11.42 %\nu - 1.23 %\nv - 0.93 %\nw - 2.47 %\nx - 0.62 %\ny - 1.85 %\nz - 0.31 %\n",
                    "name": "stdout"
                }
            ]
        },
        {
            "metadata": {},
            "cell_type": "markdown",
            "source": "<h1> your data </h1>\n\n<a href=\"https://eu-de.dataplatform.cloud.ibm.com/projects/2a14e62f-b6ce-43a3-98a5-7a3272544dcb/data-assets/c804c77c-a729-4e17-be4a-64469f0a9b59/preview?context=cpdaas&walkme_guided_tutorial=false\">check data</a>\n <table>\n  <tr>\n    <th>Company</th>\n    <th>Contact</th>\n    <th>Country</th>\n  </tr>\n  <tr>\n    <td>Alfreds Futterkiste</td>\n    <td>Maria Anders</td>\n    <td>Germany</td>\n  </tr>\n  <tr>\n    <td>Centro comercial Moctezuma</td>\n    <td>Francisco Chang</td>\n    <td>Mexico</td>\n  </tr>\n</table> \n\n<b>important quote</b>\n\n<blockquote cite=\"http://www.worldwildlife.org/who/index.html\">\nFor 60 years,![Chelsea_FC.png](attachment:Chelsea_FC.png) WWF has worked to help people and nature thrive. As the world's leading conservation organization, WWF works in nearly 100 countries. At every level, we collaborate with people around the world to develop and deliver innovative solutions that protect communities, wildlife, and the places in which they live.\n</blockquote>\n\n",
            "attachments": {}
        },
        {
            "metadata": {},
            "cell_type": "code",
            "source": "",
            "execution_count": null,
            "outputs": []
        }
    ],
    "metadata": {
        "kernelspec": {
            "name": "python3",
            "display_name": "Python 3.10",
            "language": "python"
        },
        "language_info": {
            "name": "python",
            "version": "3.10.6",
            "mimetype": "text/x-python",
            "codemirror_mode": {
                "name": "ipython",
                "version": 3
            },
            "pygments_lexer": "ipython3",
            "nbconvert_exporter": "python",
            "file_extension": ".py"
        }
    },
    "nbformat": 4,
    "nbformat_minor": 1
}