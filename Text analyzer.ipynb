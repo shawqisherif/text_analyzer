{
    "cells": [
        {
            "cell_type": "code",
            "execution_count": 1,
            "metadata": {},
            "outputs": [
                {
                    "name": "stdout",
                    "output_type": "stream",
                    "text": "a - 3.7 %\nb - 0.31 %\nc - 1.54 %\nd - 3.7 %\ne - 10.8 %\nf - 1.23 %\ng - 2.16 %\nh - 4.01 %\ni - 8.02 %\nj - 0.31 %\nk - 0.0 %\nl - 2.78 %\nm - 1.54 %\nn - 4.32 %\no - 6.17 %\np - 1.54 %\nq - 0.0 %\nr - 3.4 %\ns - 4.01 %\nt - 11.42 %\nu - 1.23 %\nv - 0.93 %\nw - 2.47 %\nx - 0.62 %\ny - 1.85 %\nz - 0.31 %\n"
                }
            ],
            "source": "#! /bin/python\nfrom string import ascii_lowercase\ninput_text=\"hello there, how you doing this fine morning, hope all good with you and the families, I was wondring if you got the time to review this fine code with this test text I've written, this code is set to get more sophesticated over time, just be paitient and it will analize encrypted text and get it decrypted, or at least try\"\n\ndef char_count(text, char):\n    count=0\n    for i in text:\n        if i==char:\n            count=count+1\n    return count\n\nfor c in ascii_lowercase:\n    char_perc=100 * char_count(input_text, c) / len(input_text)\n    print(\"{0} - {1} %\".format(c, round(char_perc, 2)))\n    \n    \n    "
        },
        {
            "cell_type": "code",
            "execution_count": null,
            "metadata": {},
            "outputs": [],
            "source": ""
        }
    ],
    "metadata": {
        "kernelspec": {
            "display_name": "Python 3.10",
            "language": "python",
            "name": "python3"
        },
        "language_info": {
            "codemirror_mode": {
                "name": "ipython",
                "version": 3
            },
            "file_extension": ".py",
            "mimetype": "text/x-python",
            "name": "python",
            "nbconvert_exporter": "python",
            "pygments_lexer": "ipython3",
            "version": "3.10.6"
        }
    },
    "nbformat": 4,
    "nbformat_minor": 1
}